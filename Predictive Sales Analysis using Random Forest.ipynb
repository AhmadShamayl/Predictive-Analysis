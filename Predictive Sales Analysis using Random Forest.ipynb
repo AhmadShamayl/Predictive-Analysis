{
  "cells": [
    {
      "cell_type": "code",
      "execution_count": null,
      "id": "02ce42f8",
      "metadata": {
        "id": "02ce42f8"
      },
      "outputs": [],
      "source": [
        "import pandas as pd\n",
        "\n",
        "# Load your dataset\n",
        "# Replace 'your_dataset.csv' with the actual file path of your dataset\n",
        "df = pd.read_csv('HijriCalendar.csv')\n"
      ]
    },
    {
      "cell_type": "code",
      "execution_count": null,
      "id": "53dc331c",
      "metadata": {
        "id": "53dc331c",
        "outputId": "0e9aaf85-0e7c-436d-9b9d-937370d03e95"
      },
      "outputs": [
        {
          "data": {
            "text/plain": [
              "array(['No Event', 'Eid al-Adha', 'Muharram',\n",
              "       'Independence Day, Jashn-e-Azadi', 'Ashura', 'Defence Day',\n",
              "       'Eid Milad-un-Nabi', 'Quaid-e-Azam Day, Christmas', 'New Year',\n",
              "       \"Valentine's Day\", \"International Women's Day\", 'Pakistan Day',\n",
              "       'Labour Day', 'Eid al-Fitr', 'Youm-e-Takbeer'], dtype=object)"
            ]
          },
          "execution_count": 48,
          "metadata": {},
          "output_type": "execute_result"
        }
      ],
      "source": [
        "df['Events'].unique()"
      ]
    },
    {
      "cell_type": "code",
      "execution_count": null,
      "id": "5611da7e",
      "metadata": {
        "id": "5611da7e",
        "outputId": "ad8ef1fd-b4f6-41da-9074-7d3861422027"
      },
      "outputs": [
        {
          "data": {
            "text/html": [
              "<div>\n",
              "<style scoped>\n",
              "    .dataframe tbody tr th:only-of-type {\n",
              "        vertical-align: middle;\n",
              "    }\n",
              "\n",
              "    .dataframe tbody tr th {\n",
              "        vertical-align: top;\n",
              "    }\n",
              "\n",
              "    .dataframe thead th {\n",
              "        text-align: right;\n",
              "    }\n",
              "</style>\n",
              "<table border=\"1\" class=\"dataframe\">\n",
              "  <thead>\n",
              "    <tr style=\"text-align: right;\">\n",
              "      <th></th>\n",
              "      <th>TransDate</th>\n",
              "      <th>Hijri Calendar</th>\n",
              "      <th>NetAmount</th>\n",
              "      <th>Quantity</th>\n",
              "      <th>DiscAmount</th>\n",
              "      <th>Events</th>\n",
              "      <th>Eid al-Adha</th>\n",
              "      <th>Muharram</th>\n",
              "      <th>Independence Day</th>\n",
              "      <th>Ashura</th>\n",
              "      <th>...</th>\n",
              "      <th>Eid Milad-un-Nabi</th>\n",
              "      <th>Quaid-e-Azam Day, Christmas</th>\n",
              "      <th>New Year</th>\n",
              "      <th>Valentine's Day</th>\n",
              "      <th>International Women's Day</th>\n",
              "      <th>Pakistan Day</th>\n",
              "      <th>Labour Day</th>\n",
              "      <th>Eid al-Fitr</th>\n",
              "      <th>Youm-e-Takbeer</th>\n",
              "      <th>DayOfWeek</th>\n",
              "    </tr>\n",
              "  </thead>\n",
              "  <tbody>\n",
              "    <tr>\n",
              "      <th>0</th>\n",
              "      <td>2021-07-01</td>\n",
              "      <td>1442-11-21</td>\n",
              "      <td>30075318.98</td>\n",
              "      <td>29020.0</td>\n",
              "      <td>5575538.5</td>\n",
              "      <td>No Event</td>\n",
              "      <td>0</td>\n",
              "      <td>0</td>\n",
              "      <td>0</td>\n",
              "      <td>0</td>\n",
              "      <td>...</td>\n",
              "      <td>0</td>\n",
              "      <td>0</td>\n",
              "      <td>0</td>\n",
              "      <td>0</td>\n",
              "      <td>0</td>\n",
              "      <td>0</td>\n",
              "      <td>0</td>\n",
              "      <td>0</td>\n",
              "      <td>0</td>\n",
              "      <td>3</td>\n",
              "    </tr>\n",
              "    <tr>\n",
              "      <th>1</th>\n",
              "      <td>2021-07-02</td>\n",
              "      <td>1442-11-22</td>\n",
              "      <td>9560455.00</td>\n",
              "      <td>9464.0</td>\n",
              "      <td>1717321.3</td>\n",
              "      <td>No Event</td>\n",
              "      <td>0</td>\n",
              "      <td>0</td>\n",
              "      <td>0</td>\n",
              "      <td>0</td>\n",
              "      <td>...</td>\n",
              "      <td>0</td>\n",
              "      <td>0</td>\n",
              "      <td>0</td>\n",
              "      <td>0</td>\n",
              "      <td>0</td>\n",
              "      <td>0</td>\n",
              "      <td>0</td>\n",
              "      <td>0</td>\n",
              "      <td>0</td>\n",
              "      <td>4</td>\n",
              "    </tr>\n",
              "    <tr>\n",
              "      <th>2</th>\n",
              "      <td>2021-07-03</td>\n",
              "      <td>1442-11-23</td>\n",
              "      <td>44738056.52</td>\n",
              "      <td>54382.0</td>\n",
              "      <td>8307404.9</td>\n",
              "      <td>No Event</td>\n",
              "      <td>0</td>\n",
              "      <td>0</td>\n",
              "      <td>0</td>\n",
              "      <td>0</td>\n",
              "      <td>...</td>\n",
              "      <td>0</td>\n",
              "      <td>0</td>\n",
              "      <td>0</td>\n",
              "      <td>0</td>\n",
              "      <td>0</td>\n",
              "      <td>0</td>\n",
              "      <td>0</td>\n",
              "      <td>0</td>\n",
              "      <td>0</td>\n",
              "      <td>5</td>\n",
              "    </tr>\n",
              "    <tr>\n",
              "      <th>3</th>\n",
              "      <td>2021-07-04</td>\n",
              "      <td>1442-11-24</td>\n",
              "      <td>32406101.87</td>\n",
              "      <td>35971.0</td>\n",
              "      <td>6191364.2</td>\n",
              "      <td>No Event</td>\n",
              "      <td>0</td>\n",
              "      <td>0</td>\n",
              "      <td>0</td>\n",
              "      <td>0</td>\n",
              "      <td>...</td>\n",
              "      <td>0</td>\n",
              "      <td>0</td>\n",
              "      <td>0</td>\n",
              "      <td>0</td>\n",
              "      <td>0</td>\n",
              "      <td>0</td>\n",
              "      <td>0</td>\n",
              "      <td>0</td>\n",
              "      <td>0</td>\n",
              "      <td>6</td>\n",
              "    </tr>\n",
              "    <tr>\n",
              "      <th>4</th>\n",
              "      <td>2021-07-05</td>\n",
              "      <td>1442-11-25</td>\n",
              "      <td>25945143.64</td>\n",
              "      <td>24438.0</td>\n",
              "      <td>699155.5</td>\n",
              "      <td>No Event</td>\n",
              "      <td>0</td>\n",
              "      <td>0</td>\n",
              "      <td>0</td>\n",
              "      <td>0</td>\n",
              "      <td>...</td>\n",
              "      <td>0</td>\n",
              "      <td>0</td>\n",
              "      <td>0</td>\n",
              "      <td>0</td>\n",
              "      <td>0</td>\n",
              "      <td>0</td>\n",
              "      <td>0</td>\n",
              "      <td>0</td>\n",
              "      <td>0</td>\n",
              "      <td>0</td>\n",
              "    </tr>\n",
              "    <tr>\n",
              "      <th>...</th>\n",
              "      <td>...</td>\n",
              "      <td>...</td>\n",
              "      <td>...</td>\n",
              "      <td>...</td>\n",
              "      <td>...</td>\n",
              "      <td>...</td>\n",
              "      <td>...</td>\n",
              "      <td>...</td>\n",
              "      <td>...</td>\n",
              "      <td>...</td>\n",
              "      <td>...</td>\n",
              "      <td>...</td>\n",
              "      <td>...</td>\n",
              "      <td>...</td>\n",
              "      <td>...</td>\n",
              "      <td>...</td>\n",
              "      <td>...</td>\n",
              "      <td>...</td>\n",
              "      <td>...</td>\n",
              "      <td>...</td>\n",
              "      <td>...</td>\n",
              "    </tr>\n",
              "    <tr>\n",
              "      <th>783</th>\n",
              "      <td>2023-08-24</td>\n",
              "      <td>1445-02-08</td>\n",
              "      <td>35731204.22</td>\n",
              "      <td>36518.0</td>\n",
              "      <td>11813533.3</td>\n",
              "      <td>No Event</td>\n",
              "      <td>0</td>\n",
              "      <td>0</td>\n",
              "      <td>0</td>\n",
              "      <td>0</td>\n",
              "      <td>...</td>\n",
              "      <td>0</td>\n",
              "      <td>0</td>\n",
              "      <td>0</td>\n",
              "      <td>0</td>\n",
              "      <td>0</td>\n",
              "      <td>0</td>\n",
              "      <td>0</td>\n",
              "      <td>0</td>\n",
              "      <td>0</td>\n",
              "      <td>3</td>\n",
              "    </tr>\n",
              "    <tr>\n",
              "      <th>784</th>\n",
              "      <td>2023-08-25</td>\n",
              "      <td>1445-02-09</td>\n",
              "      <td>26713032.94</td>\n",
              "      <td>20276.0</td>\n",
              "      <td>9707270.8</td>\n",
              "      <td>No Event</td>\n",
              "      <td>0</td>\n",
              "      <td>0</td>\n",
              "      <td>0</td>\n",
              "      <td>0</td>\n",
              "      <td>...</td>\n",
              "      <td>0</td>\n",
              "      <td>0</td>\n",
              "      <td>0</td>\n",
              "      <td>0</td>\n",
              "      <td>0</td>\n",
              "      <td>0</td>\n",
              "      <td>0</td>\n",
              "      <td>0</td>\n",
              "      <td>0</td>\n",
              "      <td>4</td>\n",
              "    </tr>\n",
              "    <tr>\n",
              "      <th>785</th>\n",
              "      <td>2023-08-26</td>\n",
              "      <td>1445-02-10</td>\n",
              "      <td>50870836.70</td>\n",
              "      <td>33652.0</td>\n",
              "      <td>17439519.2</td>\n",
              "      <td>No Event</td>\n",
              "      <td>0</td>\n",
              "      <td>0</td>\n",
              "      <td>0</td>\n",
              "      <td>0</td>\n",
              "      <td>...</td>\n",
              "      <td>0</td>\n",
              "      <td>0</td>\n",
              "      <td>0</td>\n",
              "      <td>0</td>\n",
              "      <td>0</td>\n",
              "      <td>0</td>\n",
              "      <td>0</td>\n",
              "      <td>0</td>\n",
              "      <td>0</td>\n",
              "      <td>5</td>\n",
              "    </tr>\n",
              "    <tr>\n",
              "      <th>786</th>\n",
              "      <td>2023-08-27</td>\n",
              "      <td>1445-02-11</td>\n",
              "      <td>49895861.03</td>\n",
              "      <td>58714.0</td>\n",
              "      <td>16907237.7</td>\n",
              "      <td>No Event</td>\n",
              "      <td>0</td>\n",
              "      <td>0</td>\n",
              "      <td>0</td>\n",
              "      <td>0</td>\n",
              "      <td>...</td>\n",
              "      <td>0</td>\n",
              "      <td>0</td>\n",
              "      <td>0</td>\n",
              "      <td>0</td>\n",
              "      <td>0</td>\n",
              "      <td>0</td>\n",
              "      <td>0</td>\n",
              "      <td>0</td>\n",
              "      <td>0</td>\n",
              "      <td>6</td>\n",
              "    </tr>\n",
              "    <tr>\n",
              "      <th>787</th>\n",
              "      <td>2023-08-28</td>\n",
              "      <td>1445-02-12</td>\n",
              "      <td>10490.98</td>\n",
              "      <td>10.0</td>\n",
              "      <td>6335.4</td>\n",
              "      <td>No Event</td>\n",
              "      <td>0</td>\n",
              "      <td>0</td>\n",
              "      <td>0</td>\n",
              "      <td>0</td>\n",
              "      <td>...</td>\n",
              "      <td>0</td>\n",
              "      <td>0</td>\n",
              "      <td>0</td>\n",
              "      <td>0</td>\n",
              "      <td>0</td>\n",
              "      <td>0</td>\n",
              "      <td>0</td>\n",
              "      <td>0</td>\n",
              "      <td>0</td>\n",
              "      <td>0</td>\n",
              "    </tr>\n",
              "  </tbody>\n",
              "</table>\n",
              "<p>788 rows × 21 columns</p>\n",
              "</div>"
            ],
            "text/plain": [
              "     TransDate Hijri Calendar    NetAmount  Quantity  DiscAmount    Events  \\\n",
              "0   2021-07-01     1442-11-21  30075318.98   29020.0   5575538.5  No Event   \n",
              "1   2021-07-02     1442-11-22   9560455.00    9464.0   1717321.3  No Event   \n",
              "2   2021-07-03     1442-11-23  44738056.52   54382.0   8307404.9  No Event   \n",
              "3   2021-07-04     1442-11-24  32406101.87   35971.0   6191364.2  No Event   \n",
              "4   2021-07-05     1442-11-25  25945143.64   24438.0    699155.5  No Event   \n",
              "..         ...            ...          ...       ...         ...       ...   \n",
              "783 2023-08-24     1445-02-08  35731204.22   36518.0  11813533.3  No Event   \n",
              "784 2023-08-25     1445-02-09  26713032.94   20276.0   9707270.8  No Event   \n",
              "785 2023-08-26     1445-02-10  50870836.70   33652.0  17439519.2  No Event   \n",
              "786 2023-08-27     1445-02-11  49895861.03   58714.0  16907237.7  No Event   \n",
              "787 2023-08-28     1445-02-12     10490.98      10.0      6335.4  No Event   \n",
              "\n",
              "     Eid al-Adha  Muharram  Independence Day  Ashura  ...  Eid Milad-un-Nabi  \\\n",
              "0              0         0                 0       0  ...                  0   \n",
              "1              0         0                 0       0  ...                  0   \n",
              "2              0         0                 0       0  ...                  0   \n",
              "3              0         0                 0       0  ...                  0   \n",
              "4              0         0                 0       0  ...                  0   \n",
              "..           ...       ...               ...     ...  ...                ...   \n",
              "783            0         0                 0       0  ...                  0   \n",
              "784            0         0                 0       0  ...                  0   \n",
              "785            0         0                 0       0  ...                  0   \n",
              "786            0         0                 0       0  ...                  0   \n",
              "787            0         0                 0       0  ...                  0   \n",
              "\n",
              "     Quaid-e-Azam Day, Christmas  New Year  Valentine's Day  \\\n",
              "0                              0         0                0   \n",
              "1                              0         0                0   \n",
              "2                              0         0                0   \n",
              "3                              0         0                0   \n",
              "4                              0         0                0   \n",
              "..                           ...       ...              ...   \n",
              "783                            0         0                0   \n",
              "784                            0         0                0   \n",
              "785                            0         0                0   \n",
              "786                            0         0                0   \n",
              "787                            0         0                0   \n",
              "\n",
              "     International Women's Day  Pakistan Day  Labour Day  Eid al-Fitr  \\\n",
              "0                            0             0           0            0   \n",
              "1                            0             0           0            0   \n",
              "2                            0             0           0            0   \n",
              "3                            0             0           0            0   \n",
              "4                            0             0           0            0   \n",
              "..                         ...           ...         ...          ...   \n",
              "783                          0             0           0            0   \n",
              "784                          0             0           0            0   \n",
              "785                          0             0           0            0   \n",
              "786                          0             0           0            0   \n",
              "787                          0             0           0            0   \n",
              "\n",
              "     Youm-e-Takbeer  DayOfWeek  \n",
              "0                 0          3  \n",
              "1                 0          4  \n",
              "2                 0          5  \n",
              "3                 0          6  \n",
              "4                 0          0  \n",
              "..              ...        ...  \n",
              "783               0          3  \n",
              "784               0          4  \n",
              "785               0          5  \n",
              "786               0          6  \n",
              "787               0          0  \n",
              "\n",
              "[788 rows x 21 columns]"
            ]
          },
          "execution_count": 49,
          "metadata": {},
          "output_type": "execute_result"
        }
      ],
      "source": [
        "df"
      ]
    },
    {
      "cell_type": "code",
      "execution_count": null,
      "id": "f5cffc11",
      "metadata": {
        "id": "f5cffc11"
      },
      "outputs": [],
      "source": [
        "df['Eid al-Adha'] = df['Events'].apply(lambda x: 1 if 'Eid al-Adha' in x else 0)\n",
        "df['Muharram'] = df['Events'].apply(lambda x: 1 if 'Muharram' in x else 0)\n",
        "df['Independence Day'] = df['Events'].apply(lambda x: 1 if 'Independence Day' in x else 0)\n",
        "df['Ashura'] = df['Events'].apply(lambda x: 1 if 'Ashura' in x else 0)\n",
        "df['Defence Day'] = df['Events'].apply(lambda x: 1 if 'Defence Day' in x else 0)\n",
        "df['Eid Milad-un-Nabi'] = df['Events'].apply(lambda x: 1 if 'Eid Milad-un-Nabi' in x else 0)\n",
        "df['Quaid-e-Azam Day, Christmas'] = df['Events'].apply(lambda x: 1 if 'Quaid-e-Azam Day, Christmas' in x else 0)\n",
        "df['New Year'] = df['Events'].apply(lambda x: 1 if 'New Year' in x else 0)\n",
        "df[ \"Valentine's Day\"] = df['Events'].apply(lambda x: 1 if  \"Valentine's Day\" in x else 0)\n",
        "df[\"International Women's Day\"] = df['Events'].apply(lambda x: 1 if \"International Women's Day\" in x else 0)\n",
        "df['Pakistan Day'] = df['Events'].apply(lambda x: 1 if 'Pakistan Day' in x else 0)\n",
        "df['Labour Day'] = df['Events'].apply(lambda x: 1 if 'Labour Day' in x else 0)\n",
        "df['Eid al-Fitr'] = df['Events'].apply(lambda x: 1 if 'Eid al-Fitr' in x else 0)\n",
        "df['Youm-e-Takbeer'] = df['Events'].apply(lambda x: 1 if 'Youm-e-Takbeer' in x else 0)"
      ]
    },
    {
      "cell_type": "code",
      "execution_count": null,
      "id": "61d75a7f",
      "metadata": {
        "id": "61d75a7f",
        "outputId": "e38c2c8e-4db6-4059-eb4d-179fbe4d2a95"
      },
      "outputs": [
        {
          "data": {
            "text/html": [
              "<div>\n",
              "<style scoped>\n",
              "    .dataframe tbody tr th:only-of-type {\n",
              "        vertical-align: middle;\n",
              "    }\n",
              "\n",
              "    .dataframe tbody tr th {\n",
              "        vertical-align: top;\n",
              "    }\n",
              "\n",
              "    .dataframe thead th {\n",
              "        text-align: right;\n",
              "    }\n",
              "</style>\n",
              "<table border=\"1\" class=\"dataframe\">\n",
              "  <thead>\n",
              "    <tr style=\"text-align: right;\">\n",
              "      <th></th>\n",
              "      <th>TransDate</th>\n",
              "      <th>Hijri Calendar</th>\n",
              "      <th>NetAmount</th>\n",
              "      <th>Quantity</th>\n",
              "      <th>DiscAmount</th>\n",
              "      <th>Events</th>\n",
              "      <th>Eid al-Adha</th>\n",
              "      <th>Muharram</th>\n",
              "      <th>Independence Day</th>\n",
              "      <th>Ashura</th>\n",
              "      <th>...</th>\n",
              "      <th>Eid Milad-un-Nabi</th>\n",
              "      <th>Quaid-e-Azam Day, Christmas</th>\n",
              "      <th>New Year</th>\n",
              "      <th>Valentine's Day</th>\n",
              "      <th>International Women's Day</th>\n",
              "      <th>Pakistan Day</th>\n",
              "      <th>Labour Day</th>\n",
              "      <th>Eid al-Fitr</th>\n",
              "      <th>Youm-e-Takbeer</th>\n",
              "      <th>DayOfWeek</th>\n",
              "    </tr>\n",
              "  </thead>\n",
              "  <tbody>\n",
              "    <tr>\n",
              "      <th>0</th>\n",
              "      <td>2021-07-01</td>\n",
              "      <td>1442-11-21</td>\n",
              "      <td>30075318.98</td>\n",
              "      <td>29020.0</td>\n",
              "      <td>5575538.5</td>\n",
              "      <td>No Event</td>\n",
              "      <td>0</td>\n",
              "      <td>0</td>\n",
              "      <td>0</td>\n",
              "      <td>0</td>\n",
              "      <td>...</td>\n",
              "      <td>0</td>\n",
              "      <td>0</td>\n",
              "      <td>0</td>\n",
              "      <td>0</td>\n",
              "      <td>0</td>\n",
              "      <td>0</td>\n",
              "      <td>0</td>\n",
              "      <td>0</td>\n",
              "      <td>0</td>\n",
              "      <td>3</td>\n",
              "    </tr>\n",
              "    <tr>\n",
              "      <th>1</th>\n",
              "      <td>2021-07-02</td>\n",
              "      <td>1442-11-22</td>\n",
              "      <td>9560455.00</td>\n",
              "      <td>9464.0</td>\n",
              "      <td>1717321.3</td>\n",
              "      <td>No Event</td>\n",
              "      <td>0</td>\n",
              "      <td>0</td>\n",
              "      <td>0</td>\n",
              "      <td>0</td>\n",
              "      <td>...</td>\n",
              "      <td>0</td>\n",
              "      <td>0</td>\n",
              "      <td>0</td>\n",
              "      <td>0</td>\n",
              "      <td>0</td>\n",
              "      <td>0</td>\n",
              "      <td>0</td>\n",
              "      <td>0</td>\n",
              "      <td>0</td>\n",
              "      <td>4</td>\n",
              "    </tr>\n",
              "    <tr>\n",
              "      <th>2</th>\n",
              "      <td>2021-07-03</td>\n",
              "      <td>1442-11-23</td>\n",
              "      <td>44738056.52</td>\n",
              "      <td>54382.0</td>\n",
              "      <td>8307404.9</td>\n",
              "      <td>No Event</td>\n",
              "      <td>0</td>\n",
              "      <td>0</td>\n",
              "      <td>0</td>\n",
              "      <td>0</td>\n",
              "      <td>...</td>\n",
              "      <td>0</td>\n",
              "      <td>0</td>\n",
              "      <td>0</td>\n",
              "      <td>0</td>\n",
              "      <td>0</td>\n",
              "      <td>0</td>\n",
              "      <td>0</td>\n",
              "      <td>0</td>\n",
              "      <td>0</td>\n",
              "      <td>5</td>\n",
              "    </tr>\n",
              "    <tr>\n",
              "      <th>3</th>\n",
              "      <td>2021-07-04</td>\n",
              "      <td>1442-11-24</td>\n",
              "      <td>32406101.87</td>\n",
              "      <td>35971.0</td>\n",
              "      <td>6191364.2</td>\n",
              "      <td>No Event</td>\n",
              "      <td>0</td>\n",
              "      <td>0</td>\n",
              "      <td>0</td>\n",
              "      <td>0</td>\n",
              "      <td>...</td>\n",
              "      <td>0</td>\n",
              "      <td>0</td>\n",
              "      <td>0</td>\n",
              "      <td>0</td>\n",
              "      <td>0</td>\n",
              "      <td>0</td>\n",
              "      <td>0</td>\n",
              "      <td>0</td>\n",
              "      <td>0</td>\n",
              "      <td>6</td>\n",
              "    </tr>\n",
              "    <tr>\n",
              "      <th>4</th>\n",
              "      <td>2021-07-05</td>\n",
              "      <td>1442-11-25</td>\n",
              "      <td>25945143.64</td>\n",
              "      <td>24438.0</td>\n",
              "      <td>699155.5</td>\n",
              "      <td>No Event</td>\n",
              "      <td>0</td>\n",
              "      <td>0</td>\n",
              "      <td>0</td>\n",
              "      <td>0</td>\n",
              "      <td>...</td>\n",
              "      <td>0</td>\n",
              "      <td>0</td>\n",
              "      <td>0</td>\n",
              "      <td>0</td>\n",
              "      <td>0</td>\n",
              "      <td>0</td>\n",
              "      <td>0</td>\n",
              "      <td>0</td>\n",
              "      <td>0</td>\n",
              "      <td>0</td>\n",
              "    </tr>\n",
              "  </tbody>\n",
              "</table>\n",
              "<p>5 rows × 21 columns</p>\n",
              "</div>"
            ],
            "text/plain": [
              "   TransDate Hijri Calendar    NetAmount  Quantity  DiscAmount    Events  \\\n",
              "0 2021-07-01     1442-11-21  30075318.98   29020.0   5575538.5  No Event   \n",
              "1 2021-07-02     1442-11-22   9560455.00    9464.0   1717321.3  No Event   \n",
              "2 2021-07-03     1442-11-23  44738056.52   54382.0   8307404.9  No Event   \n",
              "3 2021-07-04     1442-11-24  32406101.87   35971.0   6191364.2  No Event   \n",
              "4 2021-07-05     1442-11-25  25945143.64   24438.0    699155.5  No Event   \n",
              "\n",
              "   Eid al-Adha  Muharram  Independence Day  Ashura  ...  Eid Milad-un-Nabi  \\\n",
              "0            0         0                 0       0  ...                  0   \n",
              "1            0         0                 0       0  ...                  0   \n",
              "2            0         0                 0       0  ...                  0   \n",
              "3            0         0                 0       0  ...                  0   \n",
              "4            0         0                 0       0  ...                  0   \n",
              "\n",
              "   Quaid-e-Azam Day, Christmas  New Year  Valentine's Day  \\\n",
              "0                            0         0                0   \n",
              "1                            0         0                0   \n",
              "2                            0         0                0   \n",
              "3                            0         0                0   \n",
              "4                            0         0                0   \n",
              "\n",
              "   International Women's Day  Pakistan Day  Labour Day  Eid al-Fitr  \\\n",
              "0                          0             0           0            0   \n",
              "1                          0             0           0            0   \n",
              "2                          0             0           0            0   \n",
              "3                          0             0           0            0   \n",
              "4                          0             0           0            0   \n",
              "\n",
              "   Youm-e-Takbeer  DayOfWeek  \n",
              "0               0          3  \n",
              "1               0          4  \n",
              "2               0          5  \n",
              "3               0          6  \n",
              "4               0          0  \n",
              "\n",
              "[5 rows x 21 columns]"
            ]
          },
          "execution_count": 51,
          "metadata": {},
          "output_type": "execute_result"
        }
      ],
      "source": [
        "df.head()"
      ]
    },
    {
      "cell_type": "code",
      "execution_count": null,
      "id": "867b6c60",
      "metadata": {
        "id": "867b6c60"
      },
      "outputs": [],
      "source": [
        "df.to_csv('yo_man.csv' , index = False, encoding = 'utf-8')"
      ]
    },
    {
      "cell_type": "code",
      "execution_count": null,
      "id": "9d5a6471",
      "metadata": {
        "id": "9d5a6471"
      },
      "outputs": [],
      "source": [
        "df['TransDate'] = pd.to_datetime(df['TransDate'], format='%d/%m/%Y')"
      ]
    },
    {
      "cell_type": "code",
      "execution_count": null,
      "id": "5658505b",
      "metadata": {
        "id": "5658505b"
      },
      "outputs": [],
      "source": [
        "df['DayOfWeek'] = df['TransDate'].dt.dayofweek"
      ]
    },
    {
      "cell_type": "code",
      "execution_count": null,
      "id": "bca2d090",
      "metadata": {
        "id": "bca2d090",
        "outputId": "6494c1b2-ca77-470c-e937-173eac883b6f"
      },
      "outputs": [
        {
          "data": {
            "text/plain": [
              "Index(['TransDate', 'Hijri Calendar', 'NetAmount', 'Quantity', 'DiscAmount',\n",
              "       'Events', 'Eid al-Adha', 'Muharram', 'Independence Day', 'Ashura',\n",
              "       'Defence Day', 'Eid Milad-un-Nabi', 'Quaid-e-Azam Day, Christmas',\n",
              "       'New Year', 'Valentine's Day', 'International Women's Day',\n",
              "       'Pakistan Day', 'Labour Day', 'Eid al-Fitr', 'Youm-e-Takbeer',\n",
              "       'DayOfWeek'],\n",
              "      dtype='object')"
            ]
          },
          "execution_count": 41,
          "metadata": {},
          "output_type": "execute_result"
        }
      ],
      "source": [
        "df.columns"
      ]
    },
    {
      "cell_type": "code",
      "execution_count": null,
      "id": "5d242fa3",
      "metadata": {
        "id": "5d242fa3"
      },
      "outputs": [],
      "source": [
        "features = ['Eid al-Adha', 'Muharram', 'Independence Day', 'Ashura',\n",
        "       'Defence Day', 'Eid Milad-un-Nabi', 'Quaid-e-Azam Day, Christmas',\n",
        "       'New Year', \"Valentine's Day\", \"International Women's Day\",\n",
        "       'Pakistan Day', 'Labour Day', 'Eid al-Fitr', 'Youm-e-Takbeer',\n",
        "       'DayOfWeek']\n",
        "target = 'NetAmount'"
      ]
    },
    {
      "cell_type": "code",
      "execution_count": null,
      "id": "6127a19f",
      "metadata": {
        "id": "6127a19f"
      },
      "outputs": [],
      "source": [
        "from sklearn.ensemble import RandomForestRegressor\n",
        "from sklearn.model_selection import train_test_split\n",
        "from sklearn.metrics import mean_absolute_error\n",
        "from sklearn.linear_model import LinearRegression"
      ]
    },
    {
      "cell_type": "code",
      "execution_count": null,
      "id": "5dc2db94",
      "metadata": {
        "id": "5dc2db94"
      },
      "outputs": [],
      "source": [
        "X = df[features]\n",
        "y = df[target]\n",
        "X_train, X_test, y_train, y_test = train_test_split(X, y, test_size=0.2, random_state=42)"
      ]
    },
    {
      "cell_type": "code",
      "execution_count": null,
      "id": "e902218a",
      "metadata": {
        "id": "e902218a",
        "outputId": "4dad6093-e502-493a-89dc-8dc40101a18f"
      },
      "outputs": [
        {
          "data": {
            "text/html": [
              "<style>#sk-container-id-2 {color: black;}#sk-container-id-2 pre{padding: 0;}#sk-container-id-2 div.sk-toggleable {background-color: white;}#sk-container-id-2 label.sk-toggleable__label {cursor: pointer;display: block;width: 100%;margin-bottom: 0;padding: 0.3em;box-sizing: border-box;text-align: center;}#sk-container-id-2 label.sk-toggleable__label-arrow:before {content: \"▸\";float: left;margin-right: 0.25em;color: #696969;}#sk-container-id-2 label.sk-toggleable__label-arrow:hover:before {color: black;}#sk-container-id-2 div.sk-estimator:hover label.sk-toggleable__label-arrow:before {color: black;}#sk-container-id-2 div.sk-toggleable__content {max-height: 0;max-width: 0;overflow: hidden;text-align: left;background-color: #f0f8ff;}#sk-container-id-2 div.sk-toggleable__content pre {margin: 0.2em;color: black;border-radius: 0.25em;background-color: #f0f8ff;}#sk-container-id-2 input.sk-toggleable__control:checked~div.sk-toggleable__content {max-height: 200px;max-width: 100%;overflow: auto;}#sk-container-id-2 input.sk-toggleable__control:checked~label.sk-toggleable__label-arrow:before {content: \"▾\";}#sk-container-id-2 div.sk-estimator input.sk-toggleable__control:checked~label.sk-toggleable__label {background-color: #d4ebff;}#sk-container-id-2 div.sk-label input.sk-toggleable__control:checked~label.sk-toggleable__label {background-color: #d4ebff;}#sk-container-id-2 input.sk-hidden--visually {border: 0;clip: rect(1px 1px 1px 1px);clip: rect(1px, 1px, 1px, 1px);height: 1px;margin: -1px;overflow: hidden;padding: 0;position: absolute;width: 1px;}#sk-container-id-2 div.sk-estimator {font-family: monospace;background-color: #f0f8ff;border: 1px dotted black;border-radius: 0.25em;box-sizing: border-box;margin-bottom: 0.5em;}#sk-container-id-2 div.sk-estimator:hover {background-color: #d4ebff;}#sk-container-id-2 div.sk-parallel-item::after {content: \"\";width: 100%;border-bottom: 1px solid gray;flex-grow: 1;}#sk-container-id-2 div.sk-label:hover label.sk-toggleable__label {background-color: #d4ebff;}#sk-container-id-2 div.sk-serial::before {content: \"\";position: absolute;border-left: 1px solid gray;box-sizing: border-box;top: 0;bottom: 0;left: 50%;z-index: 0;}#sk-container-id-2 div.sk-serial {display: flex;flex-direction: column;align-items: center;background-color: white;padding-right: 0.2em;padding-left: 0.2em;position: relative;}#sk-container-id-2 div.sk-item {position: relative;z-index: 1;}#sk-container-id-2 div.sk-parallel {display: flex;align-items: stretch;justify-content: center;background-color: white;position: relative;}#sk-container-id-2 div.sk-item::before, #sk-container-id-2 div.sk-parallel-item::before {content: \"\";position: absolute;border-left: 1px solid gray;box-sizing: border-box;top: 0;bottom: 0;left: 50%;z-index: -1;}#sk-container-id-2 div.sk-parallel-item {display: flex;flex-direction: column;z-index: 1;position: relative;background-color: white;}#sk-container-id-2 div.sk-parallel-item:first-child::after {align-self: flex-end;width: 50%;}#sk-container-id-2 div.sk-parallel-item:last-child::after {align-self: flex-start;width: 50%;}#sk-container-id-2 div.sk-parallel-item:only-child::after {width: 0;}#sk-container-id-2 div.sk-dashed-wrapped {border: 1px dashed gray;margin: 0 0.4em 0.5em 0.4em;box-sizing: border-box;padding-bottom: 0.4em;background-color: white;}#sk-container-id-2 div.sk-label label {font-family: monospace;font-weight: bold;display: inline-block;line-height: 1.2em;}#sk-container-id-2 div.sk-label-container {text-align: center;}#sk-container-id-2 div.sk-container {/* jupyter's `normalize.less` sets `[hidden] { display: none; }` but bootstrap.min.css set `[hidden] { display: none !important; }` so we also need the `!important` here to be able to override the default hidden behavior on the sphinx rendered scikit-learn.org. See: https://github.com/scikit-learn/scikit-learn/issues/21755 */display: inline-block !important;position: relative;}#sk-container-id-2 div.sk-text-repr-fallback {display: none;}</style><div id=\"sk-container-id-2\" class=\"sk-top-container\"><div class=\"sk-text-repr-fallback\"><pre>RandomForestRegressor(random_state=42)</pre><b>In a Jupyter environment, please rerun this cell to show the HTML representation or trust the notebook. <br />On GitHub, the HTML representation is unable to render, please try loading this page with nbviewer.org.</b></div><div class=\"sk-container\" hidden><div class=\"sk-item\"><div class=\"sk-estimator sk-toggleable\"><input class=\"sk-toggleable__control sk-hidden--visually\" id=\"sk-estimator-id-2\" type=\"checkbox\" checked><label for=\"sk-estimator-id-2\" class=\"sk-toggleable__label sk-toggleable__label-arrow\">RandomForestRegressor</label><div class=\"sk-toggleable__content\"><pre>RandomForestRegressor(random_state=42)</pre></div></div></div></div></div>"
            ],
            "text/plain": [
              "RandomForestRegressor(random_state=42)"
            ]
          },
          "execution_count": 45,
          "metadata": {},
          "output_type": "execute_result"
        }
      ],
      "source": [
        "model = RandomForestRegressor(n_estimators=100, random_state=42)\n",
        "model.fit(X_train, y_train)"
      ]
    },
    {
      "cell_type": "code",
      "execution_count": null,
      "id": "2d5be507",
      "metadata": {
        "id": "2d5be507",
        "outputId": "c1c66563-9dff-4247-cf71-2baedafd2049"
      },
      "outputs": [
        {
          "name": "stdout",
          "output_type": "stream",
          "text": [
            "Mean Absolute Error: 12864986.54\n"
          ]
        }
      ],
      "source": [
        "y_pred = model.predict(X_test)\n",
        "\n",
        "# Evaluate the model using Mean Absolute Error (MAE)\n",
        "mae = mean_absolute_error(y_test, y_pred)\n",
        "print(f'Mean Absolute Error: {mae:.2f}')\n"
      ]
    },
    {
      "cell_type": "code",
      "execution_count": null,
      "id": "ada1212f",
      "metadata": {
        "id": "ada1212f",
        "outputId": "6c0246a5-9a35-4748-870c-3ad48915579c"
      },
      "outputs": [
        {
          "name": "stderr",
          "output_type": "stream",
          "text": [
            "C:\\Users\\SUMMAYA\\AppData\\Local\\anaconda3\\Lib\\site-packages\\sklearn\\base.py:464: UserWarning: X does not have valid feature names, but RandomForestRegressor was fitted with feature names\n",
            "  warnings.warn(\n"
          ]
        }
      ],
      "source": [
        "y_pred = model.predict([[0,0,0,0,0,0,0,0,0,0,0,0,0,0,5]])"
      ]
    },
    {
      "cell_type": "code",
      "execution_count": null,
      "id": "84e04fc7",
      "metadata": {
        "scrolled": true,
        "id": "84e04fc7",
        "outputId": "e1c5ab96-0775-4223-f808-78779170160c"
      },
      "outputs": [
        {
          "name": "stdout",
          "output_type": "stream",
          "text": [
            "Actual Sales: 45264698.56\n",
            " Predicted Amount: [53346270.38979023]\n"
          ]
        }
      ],
      "source": [
        "print('Actual Sales: 45264698.56\\n Predicted Amount:' , y_pred)"
      ]
    },
    {
      "cell_type": "code",
      "execution_count": null,
      "id": "1313918f",
      "metadata": {
        "id": "1313918f"
      },
      "outputs": [],
      "source": [
        "48550421.97333048"
      ]
    },
    {
      "cell_type": "code",
      "execution_count": null,
      "id": "7daf1546",
      "metadata": {
        "id": "7daf1546"
      },
      "outputs": [],
      "source": [
        "num_lags = 7  # You can adjust the number of lag days as needed\n",
        "for i in range(1, num_lags + 1):\n",
        "    df[f'NetAmount_Lag_{i}'] = df['NetAmount'].shift(i)"
      ]
    },
    {
      "cell_type": "code",
      "execution_count": null,
      "id": "03f7bc51",
      "metadata": {
        "id": "03f7bc51"
      },
      "outputs": [],
      "source": [
        "df['Year'] = df['TransDate'].dt.year\n",
        "df['Month'] = df['TransDate'].dt.month\n",
        "df['Day'] = df['TransDate'].dt.day\n",
        "df['DayOfWeek'] = df['TransDate'].dt.dayofweek"
      ]
    },
    {
      "cell_type": "code",
      "execution_count": null,
      "id": "c98f4453",
      "metadata": {
        "id": "c98f4453",
        "outputId": "1a182346-d5d9-495f-829a-f9cea1399c1c"
      },
      "outputs": [
        {
          "data": {
            "text/html": [
              "<div>\n",
              "<style scoped>\n",
              "    .dataframe tbody tr th:only-of-type {\n",
              "        vertical-align: middle;\n",
              "    }\n",
              "\n",
              "    .dataframe tbody tr th {\n",
              "        vertical-align: top;\n",
              "    }\n",
              "\n",
              "    .dataframe thead th {\n",
              "        text-align: right;\n",
              "    }\n",
              "</style>\n",
              "<table border=\"1\" class=\"dataframe\">\n",
              "  <thead>\n",
              "    <tr style=\"text-align: right;\">\n",
              "      <th></th>\n",
              "      <th>TransDate</th>\n",
              "      <th>Hijri Calendar</th>\n",
              "      <th>NetAmount</th>\n",
              "      <th>Quantity</th>\n",
              "      <th>DiscAmount</th>\n",
              "      <th>Events</th>\n",
              "      <th>Eid al-Adha</th>\n",
              "      <th>Muharram</th>\n",
              "      <th>Independence Day</th>\n",
              "      <th>Ashura</th>\n",
              "      <th>...</th>\n",
              "      <th>Valentine's Day</th>\n",
              "      <th>International Women's Day</th>\n",
              "      <th>Pakistan Day</th>\n",
              "      <th>Labour Day</th>\n",
              "      <th>Eid al-Fitr</th>\n",
              "      <th>Youm-e-Takbeer</th>\n",
              "      <th>DayOfWeek</th>\n",
              "      <th>Year</th>\n",
              "      <th>Month</th>\n",
              "      <th>Day</th>\n",
              "    </tr>\n",
              "  </thead>\n",
              "  <tbody>\n",
              "    <tr>\n",
              "      <th>0</th>\n",
              "      <td>2021-07-01</td>\n",
              "      <td>1442-11-21</td>\n",
              "      <td>30075318.98</td>\n",
              "      <td>29020.0</td>\n",
              "      <td>5575538.5</td>\n",
              "      <td>No Event</td>\n",
              "      <td>0</td>\n",
              "      <td>0</td>\n",
              "      <td>0</td>\n",
              "      <td>0</td>\n",
              "      <td>...</td>\n",
              "      <td>0</td>\n",
              "      <td>0</td>\n",
              "      <td>0</td>\n",
              "      <td>0</td>\n",
              "      <td>0</td>\n",
              "      <td>0</td>\n",
              "      <td>3</td>\n",
              "      <td>2021</td>\n",
              "      <td>7</td>\n",
              "      <td>1</td>\n",
              "    </tr>\n",
              "    <tr>\n",
              "      <th>1</th>\n",
              "      <td>2021-07-02</td>\n",
              "      <td>1442-11-22</td>\n",
              "      <td>9560455.00</td>\n",
              "      <td>9464.0</td>\n",
              "      <td>1717321.3</td>\n",
              "      <td>No Event</td>\n",
              "      <td>0</td>\n",
              "      <td>0</td>\n",
              "      <td>0</td>\n",
              "      <td>0</td>\n",
              "      <td>...</td>\n",
              "      <td>0</td>\n",
              "      <td>0</td>\n",
              "      <td>0</td>\n",
              "      <td>0</td>\n",
              "      <td>0</td>\n",
              "      <td>0</td>\n",
              "      <td>4</td>\n",
              "      <td>2021</td>\n",
              "      <td>7</td>\n",
              "      <td>2</td>\n",
              "    </tr>\n",
              "    <tr>\n",
              "      <th>2</th>\n",
              "      <td>2021-07-03</td>\n",
              "      <td>1442-11-23</td>\n",
              "      <td>44738056.52</td>\n",
              "      <td>54382.0</td>\n",
              "      <td>8307404.9</td>\n",
              "      <td>No Event</td>\n",
              "      <td>0</td>\n",
              "      <td>0</td>\n",
              "      <td>0</td>\n",
              "      <td>0</td>\n",
              "      <td>...</td>\n",
              "      <td>0</td>\n",
              "      <td>0</td>\n",
              "      <td>0</td>\n",
              "      <td>0</td>\n",
              "      <td>0</td>\n",
              "      <td>0</td>\n",
              "      <td>5</td>\n",
              "      <td>2021</td>\n",
              "      <td>7</td>\n",
              "      <td>3</td>\n",
              "    </tr>\n",
              "    <tr>\n",
              "      <th>3</th>\n",
              "      <td>2021-07-04</td>\n",
              "      <td>1442-11-24</td>\n",
              "      <td>32406101.87</td>\n",
              "      <td>35971.0</td>\n",
              "      <td>6191364.2</td>\n",
              "      <td>No Event</td>\n",
              "      <td>0</td>\n",
              "      <td>0</td>\n",
              "      <td>0</td>\n",
              "      <td>0</td>\n",
              "      <td>...</td>\n",
              "      <td>0</td>\n",
              "      <td>0</td>\n",
              "      <td>0</td>\n",
              "      <td>0</td>\n",
              "      <td>0</td>\n",
              "      <td>0</td>\n",
              "      <td>6</td>\n",
              "      <td>2021</td>\n",
              "      <td>7</td>\n",
              "      <td>4</td>\n",
              "    </tr>\n",
              "    <tr>\n",
              "      <th>4</th>\n",
              "      <td>2021-07-05</td>\n",
              "      <td>1442-11-25</td>\n",
              "      <td>25945143.64</td>\n",
              "      <td>24438.0</td>\n",
              "      <td>699155.5</td>\n",
              "      <td>No Event</td>\n",
              "      <td>0</td>\n",
              "      <td>0</td>\n",
              "      <td>0</td>\n",
              "      <td>0</td>\n",
              "      <td>...</td>\n",
              "      <td>0</td>\n",
              "      <td>0</td>\n",
              "      <td>0</td>\n",
              "      <td>0</td>\n",
              "      <td>0</td>\n",
              "      <td>0</td>\n",
              "      <td>0</td>\n",
              "      <td>2021</td>\n",
              "      <td>7</td>\n",
              "      <td>5</td>\n",
              "    </tr>\n",
              "  </tbody>\n",
              "</table>\n",
              "<p>5 rows × 24 columns</p>\n",
              "</div>"
            ],
            "text/plain": [
              "   TransDate Hijri Calendar    NetAmount  Quantity  DiscAmount    Events  \\\n",
              "0 2021-07-01     1442-11-21  30075318.98   29020.0   5575538.5  No Event   \n",
              "1 2021-07-02     1442-11-22   9560455.00    9464.0   1717321.3  No Event   \n",
              "2 2021-07-03     1442-11-23  44738056.52   54382.0   8307404.9  No Event   \n",
              "3 2021-07-04     1442-11-24  32406101.87   35971.0   6191364.2  No Event   \n",
              "4 2021-07-05     1442-11-25  25945143.64   24438.0    699155.5  No Event   \n",
              "\n",
              "   Eid al-Adha  Muharram  Independence Day  Ashura  ...  Valentine's Day  \\\n",
              "0            0         0                 0       0  ...                0   \n",
              "1            0         0                 0       0  ...                0   \n",
              "2            0         0                 0       0  ...                0   \n",
              "3            0         0                 0       0  ...                0   \n",
              "4            0         0                 0       0  ...                0   \n",
              "\n",
              "   International Women's Day  Pakistan Day  Labour Day  Eid al-Fitr  \\\n",
              "0                          0             0           0            0   \n",
              "1                          0             0           0            0   \n",
              "2                          0             0           0            0   \n",
              "3                          0             0           0            0   \n",
              "4                          0             0           0            0   \n",
              "\n",
              "   Youm-e-Takbeer  DayOfWeek  Year  Month  Day  \n",
              "0               0          3  2021      7    1  \n",
              "1               0          4  2021      7    2  \n",
              "2               0          5  2021      7    3  \n",
              "3               0          6  2021      7    4  \n",
              "4               0          0  2021      7    5  \n",
              "\n",
              "[5 rows x 24 columns]"
            ]
          },
          "execution_count": 53,
          "metadata": {},
          "output_type": "execute_result"
        }
      ],
      "source": [
        "df.head()"
      ]
    },
    {
      "cell_type": "code",
      "execution_count": null,
      "id": "672d6377",
      "metadata": {
        "id": "672d6377",
        "outputId": "8bc75ac7-f853-4f70-9cd7-a3188e5e14a6"
      },
      "outputs": [
        {
          "data": {
            "text/plain": [
              "['Year',\n",
              " 'Month',\n",
              " 'Day',\n",
              " 'DayOfWeek',\n",
              " 'Eid al-Adha',\n",
              " 'Muharram',\n",
              " 'Independence Day',\n",
              " 'Ashura',\n",
              " 'Defence Day',\n",
              " 'Eid Milad-un-Nabi',\n",
              " 'Quaid-e-Azam Day, Christmas',\n",
              " 'New Year',\n",
              " \"Valentine's Day\",\n",
              " \"International Women's Day\",\n",
              " 'Pakistan Day',\n",
              " 'Labour Day',\n",
              " 'Eid al-Fitr',\n",
              " 'Youm-e-Takbeer']"
            ]
          },
          "execution_count": 35,
          "metadata": {},
          "output_type": "execute_result"
        }
      ],
      "source": [
        "features"
      ]
    },
    {
      "cell_type": "code",
      "execution_count": null,
      "id": "400590ab",
      "metadata": {
        "id": "400590ab",
        "outputId": "d811d51e-b76d-4524-e27f-198ba2b55394"
      },
      "outputs": [
        {
          "data": {
            "text/html": [
              "<div>\n",
              "<style scoped>\n",
              "    .dataframe tbody tr th:only-of-type {\n",
              "        vertical-align: middle;\n",
              "    }\n",
              "\n",
              "    .dataframe tbody tr th {\n",
              "        vertical-align: top;\n",
              "    }\n",
              "\n",
              "    .dataframe thead th {\n",
              "        text-align: right;\n",
              "    }\n",
              "</style>\n",
              "<table border=\"1\" class=\"dataframe\">\n",
              "  <thead>\n",
              "    <tr style=\"text-align: right;\">\n",
              "      <th></th>\n",
              "      <th>TransDate</th>\n",
              "      <th>Hijri Calendar</th>\n",
              "      <th>NetAmount</th>\n",
              "      <th>Quantity</th>\n",
              "      <th>DiscAmount</th>\n",
              "      <th>Events</th>\n",
              "      <th>Eid al-Adha</th>\n",
              "      <th>Muharram</th>\n",
              "      <th>Independence Day</th>\n",
              "      <th>Ashura</th>\n",
              "      <th>...</th>\n",
              "      <th>NetAmount_Lag_1</th>\n",
              "      <th>NetAmount_Lag_2</th>\n",
              "      <th>NetAmount_Lag_3</th>\n",
              "      <th>NetAmount_Lag_4</th>\n",
              "      <th>NetAmount_Lag_5</th>\n",
              "      <th>NetAmount_Lag_6</th>\n",
              "      <th>NetAmount_Lag_7</th>\n",
              "      <th>Year</th>\n",
              "      <th>Month</th>\n",
              "      <th>Day</th>\n",
              "    </tr>\n",
              "  </thead>\n",
              "  <tbody>\n",
              "    <tr>\n",
              "      <th>7</th>\n",
              "      <td>2021-07-08</td>\n",
              "      <td>1442-11-28</td>\n",
              "      <td>27804352.79</td>\n",
              "      <td>50001.0</td>\n",
              "      <td>663724.8</td>\n",
              "      <td>No Event</td>\n",
              "      <td>0</td>\n",
              "      <td>0</td>\n",
              "      <td>0</td>\n",
              "      <td>0</td>\n",
              "      <td>...</td>\n",
              "      <td>26741464.38</td>\n",
              "      <td>25903777.12</td>\n",
              "      <td>25945143.64</td>\n",
              "      <td>32406101.87</td>\n",
              "      <td>44738056.52</td>\n",
              "      <td>9560455.00</td>\n",
              "      <td>30075318.98</td>\n",
              "      <td>2021</td>\n",
              "      <td>7</td>\n",
              "      <td>8</td>\n",
              "    </tr>\n",
              "    <tr>\n",
              "      <th>8</th>\n",
              "      <td>2021-07-09</td>\n",
              "      <td>1442-11-29</td>\n",
              "      <td>10136570.66</td>\n",
              "      <td>7893.0</td>\n",
              "      <td>250585.9</td>\n",
              "      <td>No Event</td>\n",
              "      <td>0</td>\n",
              "      <td>0</td>\n",
              "      <td>0</td>\n",
              "      <td>0</td>\n",
              "      <td>...</td>\n",
              "      <td>27804352.79</td>\n",
              "      <td>26741464.38</td>\n",
              "      <td>25903777.12</td>\n",
              "      <td>25945143.64</td>\n",
              "      <td>32406101.87</td>\n",
              "      <td>44738056.52</td>\n",
              "      <td>9560455.00</td>\n",
              "      <td>2021</td>\n",
              "      <td>7</td>\n",
              "      <td>9</td>\n",
              "    </tr>\n",
              "    <tr>\n",
              "      <th>9</th>\n",
              "      <td>2021-07-10</td>\n",
              "      <td>1442-11-30</td>\n",
              "      <td>41690795.51</td>\n",
              "      <td>41416.0</td>\n",
              "      <td>1212627.2</td>\n",
              "      <td>No Event</td>\n",
              "      <td>0</td>\n",
              "      <td>0</td>\n",
              "      <td>0</td>\n",
              "      <td>0</td>\n",
              "      <td>...</td>\n",
              "      <td>10136570.66</td>\n",
              "      <td>27804352.79</td>\n",
              "      <td>26741464.38</td>\n",
              "      <td>25903777.12</td>\n",
              "      <td>25945143.64</td>\n",
              "      <td>32406101.87</td>\n",
              "      <td>44738056.52</td>\n",
              "      <td>2021</td>\n",
              "      <td>7</td>\n",
              "      <td>10</td>\n",
              "    </tr>\n",
              "    <tr>\n",
              "      <th>10</th>\n",
              "      <td>2021-07-11</td>\n",
              "      <td>1442-12-01</td>\n",
              "      <td>30875896.89</td>\n",
              "      <td>36558.0</td>\n",
              "      <td>786720.8</td>\n",
              "      <td>No Event</td>\n",
              "      <td>0</td>\n",
              "      <td>0</td>\n",
              "      <td>0</td>\n",
              "      <td>0</td>\n",
              "      <td>...</td>\n",
              "      <td>41690795.51</td>\n",
              "      <td>10136570.66</td>\n",
              "      <td>27804352.79</td>\n",
              "      <td>26741464.38</td>\n",
              "      <td>25903777.12</td>\n",
              "      <td>25945143.64</td>\n",
              "      <td>32406101.87</td>\n",
              "      <td>2021</td>\n",
              "      <td>7</td>\n",
              "      <td>11</td>\n",
              "    </tr>\n",
              "    <tr>\n",
              "      <th>11</th>\n",
              "      <td>2021-07-12</td>\n",
              "      <td>1442-12-02</td>\n",
              "      <td>33050517.15</td>\n",
              "      <td>66592.0</td>\n",
              "      <td>891828.0</td>\n",
              "      <td>No Event</td>\n",
              "      <td>0</td>\n",
              "      <td>0</td>\n",
              "      <td>0</td>\n",
              "      <td>0</td>\n",
              "      <td>...</td>\n",
              "      <td>30875896.89</td>\n",
              "      <td>41690795.51</td>\n",
              "      <td>10136570.66</td>\n",
              "      <td>27804352.79</td>\n",
              "      <td>26741464.38</td>\n",
              "      <td>25903777.12</td>\n",
              "      <td>25945143.64</td>\n",
              "      <td>2021</td>\n",
              "      <td>7</td>\n",
              "      <td>12</td>\n",
              "    </tr>\n",
              "  </tbody>\n",
              "</table>\n",
              "<p>5 rows × 31 columns</p>\n",
              "</div>"
            ],
            "text/plain": [
              "    TransDate Hijri Calendar    NetAmount  Quantity  DiscAmount    Events  \\\n",
              "7  2021-07-08     1442-11-28  27804352.79   50001.0    663724.8  No Event   \n",
              "8  2021-07-09     1442-11-29  10136570.66    7893.0    250585.9  No Event   \n",
              "9  2021-07-10     1442-11-30  41690795.51   41416.0   1212627.2  No Event   \n",
              "10 2021-07-11     1442-12-01  30875896.89   36558.0    786720.8  No Event   \n",
              "11 2021-07-12     1442-12-02  33050517.15   66592.0    891828.0  No Event   \n",
              "\n",
              "    Eid al-Adha  Muharram  Independence Day  Ashura  ...  NetAmount_Lag_1  \\\n",
              "7             0         0                 0       0  ...      26741464.38   \n",
              "8             0         0                 0       0  ...      27804352.79   \n",
              "9             0         0                 0       0  ...      10136570.66   \n",
              "10            0         0                 0       0  ...      41690795.51   \n",
              "11            0         0                 0       0  ...      30875896.89   \n",
              "\n",
              "    NetAmount_Lag_2  NetAmount_Lag_3  NetAmount_Lag_4  NetAmount_Lag_5  \\\n",
              "7       25903777.12      25945143.64      32406101.87      44738056.52   \n",
              "8       26741464.38      25903777.12      25945143.64      32406101.87   \n",
              "9       27804352.79      26741464.38      25903777.12      25945143.64   \n",
              "10      10136570.66      27804352.79      26741464.38      25903777.12   \n",
              "11      41690795.51      10136570.66      27804352.79      26741464.38   \n",
              "\n",
              "    NetAmount_Lag_6  NetAmount_Lag_7  Year  Month  Day  \n",
              "7        9560455.00      30075318.98  2021      7    8  \n",
              "8       44738056.52       9560455.00  2021      7    9  \n",
              "9       32406101.87      44738056.52  2021      7   10  \n",
              "10      25945143.64      32406101.87  2021      7   11  \n",
              "11      25903777.12      25945143.64  2021      7   12  \n",
              "\n",
              "[5 rows x 31 columns]"
            ]
          },
          "execution_count": 37,
          "metadata": {},
          "output_type": "execute_result"
        }
      ],
      "source": [
        "df.head()"
      ]
    },
    {
      "cell_type": "code",
      "execution_count": null,
      "id": "bbffccb2",
      "metadata": {
        "id": "bbffccb2"
      },
      "outputs": [],
      "source": [
        "features2 = ['Year', 'Month', 'Day', 'DayOfWeek', 'Eid al-Adha', 'Muharram', 'Independence Day', 'Ashura',\n",
        "            'Defence Day', 'Eid Milad-un-Nabi', 'Quaid-e-Azam Day, Christmas',\n",
        "            'New Year', \"Valentine's Day\", \"International Women's Day\",\n",
        "            'Pakistan Day', 'Labour Day', 'Eid al-Fitr', 'Youm-e-Takbeer']\n",
        "target2 = 'NetAmount'"
      ]
    },
    {
      "cell_type": "code",
      "execution_count": null,
      "id": "b90f9ae1",
      "metadata": {
        "id": "b90f9ae1"
      },
      "outputs": [],
      "source": [
        "df.dropna(inplace=True)\n"
      ]
    },
    {
      "cell_type": "code",
      "execution_count": null,
      "id": "6f3225fe",
      "metadata": {
        "id": "6f3225fe"
      },
      "outputs": [],
      "source": [
        "X = df[features2]\n",
        "y = df[target2]\n",
        "X_train, X_test, y_train, y_test = train_test_split(X, y, test_size=0.2, random_state=42)"
      ]
    },
    {
      "cell_type": "code",
      "execution_count": null,
      "id": "7cf3c2b0",
      "metadata": {
        "id": "7cf3c2b0",
        "outputId": "d7f65ca0-3a19-48fc-c404-007c74b226f6"
      },
      "outputs": [
        {
          "data": {
            "text/html": [
              "<style>#sk-container-id-4 {color: black;}#sk-container-id-4 pre{padding: 0;}#sk-container-id-4 div.sk-toggleable {background-color: white;}#sk-container-id-4 label.sk-toggleable__label {cursor: pointer;display: block;width: 100%;margin-bottom: 0;padding: 0.3em;box-sizing: border-box;text-align: center;}#sk-container-id-4 label.sk-toggleable__label-arrow:before {content: \"▸\";float: left;margin-right: 0.25em;color: #696969;}#sk-container-id-4 label.sk-toggleable__label-arrow:hover:before {color: black;}#sk-container-id-4 div.sk-estimator:hover label.sk-toggleable__label-arrow:before {color: black;}#sk-container-id-4 div.sk-toggleable__content {max-height: 0;max-width: 0;overflow: hidden;text-align: left;background-color: #f0f8ff;}#sk-container-id-4 div.sk-toggleable__content pre {margin: 0.2em;color: black;border-radius: 0.25em;background-color: #f0f8ff;}#sk-container-id-4 input.sk-toggleable__control:checked~div.sk-toggleable__content {max-height: 200px;max-width: 100%;overflow: auto;}#sk-container-id-4 input.sk-toggleable__control:checked~label.sk-toggleable__label-arrow:before {content: \"▾\";}#sk-container-id-4 div.sk-estimator input.sk-toggleable__control:checked~label.sk-toggleable__label {background-color: #d4ebff;}#sk-container-id-4 div.sk-label input.sk-toggleable__control:checked~label.sk-toggleable__label {background-color: #d4ebff;}#sk-container-id-4 input.sk-hidden--visually {border: 0;clip: rect(1px 1px 1px 1px);clip: rect(1px, 1px, 1px, 1px);height: 1px;margin: -1px;overflow: hidden;padding: 0;position: absolute;width: 1px;}#sk-container-id-4 div.sk-estimator {font-family: monospace;background-color: #f0f8ff;border: 1px dotted black;border-radius: 0.25em;box-sizing: border-box;margin-bottom: 0.5em;}#sk-container-id-4 div.sk-estimator:hover {background-color: #d4ebff;}#sk-container-id-4 div.sk-parallel-item::after {content: \"\";width: 100%;border-bottom: 1px solid gray;flex-grow: 1;}#sk-container-id-4 div.sk-label:hover label.sk-toggleable__label {background-color: #d4ebff;}#sk-container-id-4 div.sk-serial::before {content: \"\";position: absolute;border-left: 1px solid gray;box-sizing: border-box;top: 0;bottom: 0;left: 50%;z-index: 0;}#sk-container-id-4 div.sk-serial {display: flex;flex-direction: column;align-items: center;background-color: white;padding-right: 0.2em;padding-left: 0.2em;position: relative;}#sk-container-id-4 div.sk-item {position: relative;z-index: 1;}#sk-container-id-4 div.sk-parallel {display: flex;align-items: stretch;justify-content: center;background-color: white;position: relative;}#sk-container-id-4 div.sk-item::before, #sk-container-id-4 div.sk-parallel-item::before {content: \"\";position: absolute;border-left: 1px solid gray;box-sizing: border-box;top: 0;bottom: 0;left: 50%;z-index: -1;}#sk-container-id-4 div.sk-parallel-item {display: flex;flex-direction: column;z-index: 1;position: relative;background-color: white;}#sk-container-id-4 div.sk-parallel-item:first-child::after {align-self: flex-end;width: 50%;}#sk-container-id-4 div.sk-parallel-item:last-child::after {align-self: flex-start;width: 50%;}#sk-container-id-4 div.sk-parallel-item:only-child::after {width: 0;}#sk-container-id-4 div.sk-dashed-wrapped {border: 1px dashed gray;margin: 0 0.4em 0.5em 0.4em;box-sizing: border-box;padding-bottom: 0.4em;background-color: white;}#sk-container-id-4 div.sk-label label {font-family: monospace;font-weight: bold;display: inline-block;line-height: 1.2em;}#sk-container-id-4 div.sk-label-container {text-align: center;}#sk-container-id-4 div.sk-container {/* jupyter's `normalize.less` sets `[hidden] { display: none; }` but bootstrap.min.css set `[hidden] { display: none !important; }` so we also need the `!important` here to be able to override the default hidden behavior on the sphinx rendered scikit-learn.org. See: https://github.com/scikit-learn/scikit-learn/issues/21755 */display: inline-block !important;position: relative;}#sk-container-id-4 div.sk-text-repr-fallback {display: none;}</style><div id=\"sk-container-id-4\" class=\"sk-top-container\"><div class=\"sk-text-repr-fallback\"><pre>RandomForestRegressor(random_state=42)</pre><b>In a Jupyter environment, please rerun this cell to show the HTML representation or trust the notebook. <br />On GitHub, the HTML representation is unable to render, please try loading this page with nbviewer.org.</b></div><div class=\"sk-container\" hidden><div class=\"sk-item\"><div class=\"sk-estimator sk-toggleable\"><input class=\"sk-toggleable__control sk-hidden--visually\" id=\"sk-estimator-id-4\" type=\"checkbox\" checked><label for=\"sk-estimator-id-4\" class=\"sk-toggleable__label sk-toggleable__label-arrow\">RandomForestRegressor</label><div class=\"sk-toggleable__content\"><pre>RandomForestRegressor(random_state=42)</pre></div></div></div></div></div>"
            ],
            "text/plain": [
              "RandomForestRegressor(random_state=42)"
            ]
          },
          "execution_count": 98,
          "metadata": {},
          "output_type": "execute_result"
        }
      ],
      "source": [
        "model2 = RandomForestRegressor(n_estimators=100, random_state=42)\n",
        "model2.fit(X_train, y_train)\n"
      ]
    },
    {
      "cell_type": "code",
      "execution_count": null,
      "id": "7e47735e",
      "metadata": {
        "id": "7e47735e",
        "outputId": "2697d409-fb62-4b06-e502-9b8b6f9928bc"
      },
      "outputs": [
        {
          "data": {
            "text/html": [
              "<style>#sk-container-id-8 {color: black;}#sk-container-id-8 pre{padding: 0;}#sk-container-id-8 div.sk-toggleable {background-color: white;}#sk-container-id-8 label.sk-toggleable__label {cursor: pointer;display: block;width: 100%;margin-bottom: 0;padding: 0.3em;box-sizing: border-box;text-align: center;}#sk-container-id-8 label.sk-toggleable__label-arrow:before {content: \"▸\";float: left;margin-right: 0.25em;color: #696969;}#sk-container-id-8 label.sk-toggleable__label-arrow:hover:before {color: black;}#sk-container-id-8 div.sk-estimator:hover label.sk-toggleable__label-arrow:before {color: black;}#sk-container-id-8 div.sk-toggleable__content {max-height: 0;max-width: 0;overflow: hidden;text-align: left;background-color: #f0f8ff;}#sk-container-id-8 div.sk-toggleable__content pre {margin: 0.2em;color: black;border-radius: 0.25em;background-color: #f0f8ff;}#sk-container-id-8 input.sk-toggleable__control:checked~div.sk-toggleable__content {max-height: 200px;max-width: 100%;overflow: auto;}#sk-container-id-8 input.sk-toggleable__control:checked~label.sk-toggleable__label-arrow:before {content: \"▾\";}#sk-container-id-8 div.sk-estimator input.sk-toggleable__control:checked~label.sk-toggleable__label {background-color: #d4ebff;}#sk-container-id-8 div.sk-label input.sk-toggleable__control:checked~label.sk-toggleable__label {background-color: #d4ebff;}#sk-container-id-8 input.sk-hidden--visually {border: 0;clip: rect(1px 1px 1px 1px);clip: rect(1px, 1px, 1px, 1px);height: 1px;margin: -1px;overflow: hidden;padding: 0;position: absolute;width: 1px;}#sk-container-id-8 div.sk-estimator {font-family: monospace;background-color: #f0f8ff;border: 1px dotted black;border-radius: 0.25em;box-sizing: border-box;margin-bottom: 0.5em;}#sk-container-id-8 div.sk-estimator:hover {background-color: #d4ebff;}#sk-container-id-8 div.sk-parallel-item::after {content: \"\";width: 100%;border-bottom: 1px solid gray;flex-grow: 1;}#sk-container-id-8 div.sk-label:hover label.sk-toggleable__label {background-color: #d4ebff;}#sk-container-id-8 div.sk-serial::before {content: \"\";position: absolute;border-left: 1px solid gray;box-sizing: border-box;top: 0;bottom: 0;left: 50%;z-index: 0;}#sk-container-id-8 div.sk-serial {display: flex;flex-direction: column;align-items: center;background-color: white;padding-right: 0.2em;padding-left: 0.2em;position: relative;}#sk-container-id-8 div.sk-item {position: relative;z-index: 1;}#sk-container-id-8 div.sk-parallel {display: flex;align-items: stretch;justify-content: center;background-color: white;position: relative;}#sk-container-id-8 div.sk-item::before, #sk-container-id-8 div.sk-parallel-item::before {content: \"\";position: absolute;border-left: 1px solid gray;box-sizing: border-box;top: 0;bottom: 0;left: 50%;z-index: -1;}#sk-container-id-8 div.sk-parallel-item {display: flex;flex-direction: column;z-index: 1;position: relative;background-color: white;}#sk-container-id-8 div.sk-parallel-item:first-child::after {align-self: flex-end;width: 50%;}#sk-container-id-8 div.sk-parallel-item:last-child::after {align-self: flex-start;width: 50%;}#sk-container-id-8 div.sk-parallel-item:only-child::after {width: 0;}#sk-container-id-8 div.sk-dashed-wrapped {border: 1px dashed gray;margin: 0 0.4em 0.5em 0.4em;box-sizing: border-box;padding-bottom: 0.4em;background-color: white;}#sk-container-id-8 div.sk-label label {font-family: monospace;font-weight: bold;display: inline-block;line-height: 1.2em;}#sk-container-id-8 div.sk-label-container {text-align: center;}#sk-container-id-8 div.sk-container {/* jupyter's `normalize.less` sets `[hidden] { display: none; }` but bootstrap.min.css set `[hidden] { display: none !important; }` so we also need the `!important` here to be able to override the default hidden behavior on the sphinx rendered scikit-learn.org. See: https://github.com/scikit-learn/scikit-learn/issues/21755 */display: inline-block !important;position: relative;}#sk-container-id-8 div.sk-text-repr-fallback {display: none;}</style><div id=\"sk-container-id-8\" class=\"sk-top-container\"><div class=\"sk-text-repr-fallback\"><pre>LinearRegression()</pre><b>In a Jupyter environment, please rerun this cell to show the HTML representation or trust the notebook. <br />On GitHub, the HTML representation is unable to render, please try loading this page with nbviewer.org.</b></div><div class=\"sk-container\" hidden><div class=\"sk-item\"><div class=\"sk-estimator sk-toggleable\"><input class=\"sk-toggleable__control sk-hidden--visually\" id=\"sk-estimator-id-8\" type=\"checkbox\" checked><label for=\"sk-estimator-id-8\" class=\"sk-toggleable__label sk-toggleable__label-arrow\">LinearRegression</label><div class=\"sk-toggleable__content\"><pre>LinearRegression()</pre></div></div></div></div></div>"
            ],
            "text/plain": [
              "LinearRegression()"
            ]
          },
          "execution_count": 151,
          "metadata": {},
          "output_type": "execute_result"
        }
      ],
      "source": [
        "model3 = LinearRegression()\n",
        "model3.fit(X_train, y_train)"
      ]
    },
    {
      "cell_type": "code",
      "execution_count": null,
      "id": "e4c823f9",
      "metadata": {
        "id": "e4c823f9"
      },
      "outputs": [],
      "source": [
        "y_pred2 = model2.predict(X_test)"
      ]
    },
    {
      "cell_type": "code",
      "execution_count": null,
      "id": "642e7d90",
      "metadata": {
        "id": "642e7d90",
        "outputId": "83a7167a-e629-4268-e709-52ed33050f51"
      },
      "outputs": [
        {
          "name": "stdout",
          "output_type": "stream",
          "text": [
            "Mean Absolute Error: 8293576.78\n"
          ]
        }
      ],
      "source": [
        "mae = mean_absolute_error(y_test, y_pred2)\n",
        "print(f'Mean Absolute Error: {mae:.2f}')"
      ]
    },
    {
      "cell_type": "code",
      "execution_count": null,
      "id": "ee75f99d",
      "metadata": {
        "id": "ee75f99d"
      },
      "outputs": [],
      "source": [
        "y_pred = model2.predict(X_test)"
      ]
    },
    {
      "cell_type": "code",
      "execution_count": null,
      "id": "76a7fdd7",
      "metadata": {
        "id": "76a7fdd7",
        "outputId": "05193b66-7682-4ee8-d432-704eebb6a78b"
      },
      "outputs": [
        {
          "name": "stdout",
          "output_type": "stream",
          "text": [
            "Mean Absolute Error: 8293576.78\n"
          ]
        }
      ],
      "source": [
        "mae = mean_absolute_error(y_test, y_pred)\n",
        "print(f'Mean Absolute Error: {mae:.2f}')"
      ]
    },
    {
      "cell_type": "code",
      "execution_count": null,
      "id": "459e61e1",
      "metadata": {
        "id": "459e61e1",
        "outputId": "bf1cb343-02a2-46c7-c2e9-e3a9f961bab5"
      },
      "outputs": [
        {
          "data": {
            "text/plain": [
              "18"
            ]
          },
          "execution_count": 156,
          "metadata": {},
          "output_type": "execute_result"
        }
      ],
      "source": [
        "len(features2)"
      ]
    },
    {
      "cell_type": "code",
      "execution_count": null,
      "id": "4464762d",
      "metadata": {
        "id": "4464762d"
      },
      "outputs": [],
      "source": [
        "input_data = [[2023, 8, 28,0, 0, 0, 0, 0, 0, 0, 0, 0, 0, 0,0,0, 0, 0]\n",
        "             ,[2023, 8, 29,1, 0, 0, 0, 0, 0, 0, 0, 0, 0, 0,0,0, 0, 0]\n",
        "             ,[2023, 8, 30,2, 0, 0, 0, 0, 0, 0, 0, 0, 0, 0,0,0, 0, 0]\n",
        "             ,[2023, 8, 31,3, 0, 0, 0, 0, 0, 0, 0, 0, 0, 0,0,0, 0, 0]\n",
        "             ,[2023, 9, 1,4, 0, 0, 0, 0, 0, 0, 0, 0, 0, 0,0,0, 0, 0]\n",
        "             ,[2023, 9, 2,5, 0, 0, 0, 0, 0, 0, 0, 0, 0, 0,0,0, 0, 0]\n",
        "             ,[2023, 9, 3,6, 0, 0, 0, 0, 0, 0, 0, 0, 0, 0,0,0, 0, 0]\n",
        "             ,[2023, 9, 4,0, 0, 0, 0, 0, 0, 0, 0, 0, 0, 0,0,0, 0, 0] ]"
      ]
    },
    {
      "cell_type": "code",
      "execution_count": null,
      "id": "d36f3f12",
      "metadata": {
        "id": "d36f3f12",
        "outputId": "b6619641-e3b3-477e-b189-d93c45ca9a65"
      },
      "outputs": [
        {
          "name": "stdout",
          "output_type": "stream",
          "text": [
            "15552618.951700013\n",
            "18978269.6684\n",
            "18509044.0309\n",
            "18678916.2947\n",
            "34488397.21589996\n",
            "60600268.74200007\n",
            "71419430.62690012\n",
            "45906365.41109998\n"
          ]
        },
        {
          "name": "stderr",
          "output_type": "stream",
          "text": [
            "C:\\Users\\SUMMAYA\\AppData\\Local\\anaconda3\\Lib\\site-packages\\sklearn\\base.py:464: UserWarning: X does not have valid feature names, but RandomForestRegressor was fitted with feature names\n",
            "  warnings.warn(\n"
          ]
        }
      ],
      "source": [
        "input_data = [[2023, 8, 28,0, 0, 0, 0, 0, 0, 0, 0, 0, 0, 0,0,0, 0, 0]\n",
        "             ,[2023, 8, 29,1, 0, 0, 0, 0, 0, 0, 0, 0, 0, 0,0,0, 0, 0]\n",
        "             ,[2023, 8, 30,2, 0, 0, 0, 0, 0, 0, 0, 0, 0, 0,0,0, 0, 0]\n",
        "             ,[2023, 8, 31,3, 0, 0, 0, 0, 0, 0, 0, 0, 0, 0,0,0, 0, 0]\n",
        "             ,[2023, 9, 1,4, 0, 0, 0, 0, 0, 0, 0, 0, 0, 0,0,0, 0, 0]\n",
        "             ,[2023, 9, 2,5, 0, 0, 0, 0, 0, 0, 0, 0, 0, 0,0,0, 0, 0]\n",
        "             ,[2023, 9, 3,6, 0, 0, 0, 0, 0, 0, 0, 0, 0, 0,0,0, 0, 0]\n",
        "             ,[2023, 9, 4,0, 0, 0, 0, 0, 0, 0, 0, 0, 0, 0,0,0, 0, 0] ]\n",
        "predicted_sales = model2.predict(input_data)\n",
        "for i in range (0, len(predicted_sales)):\n",
        "    print(predicted_sales[i])\n",
        "   # print('Predicted Total Sales for date,', input_data[i][2],'/', input_data[i][1],'/', input_data[i][0],':', predicted_sales[i])"
      ]
    },
    {
      "cell_type": "code",
      "execution_count": null,
      "id": "6358805b",
      "metadata": {
        "id": "6358805b",
        "outputId": "67413d9d-8219-420b-e36f-43091d32efa7"
      },
      "outputs": [
        {
          "data": {
            "text/plain": [
              "1"
            ]
          },
          "execution_count": 71,
          "metadata": {},
          "output_type": "execute_result"
        }
      ],
      "source": [
        "input_data[0][3]"
      ]
    },
    {
      "cell_type": "code",
      "execution_count": null,
      "id": "4b5ed679",
      "metadata": {
        "id": "4b5ed679",
        "outputId": "d2bd5df5-783b-48c8-b657-4d5620d3b2bd"
      },
      "outputs": [
        {
          "name": "stderr",
          "output_type": "stream",
          "text": [
            "C:\\Users\\SUMMAYA\\AppData\\Local\\anaconda3\\Lib\\site-packages\\sklearn\\base.py:464: UserWarning: X does not have valid feature names, but LinearRegression was fitted with feature names\n",
            "  warnings.warn(\n"
          ]
        },
        {
          "ename": "ValueError",
          "evalue": "setting an array element with a sequence. The requested array has an inhomogeneous shape after 1 dimensions. The detected shape was (7,) + inhomogeneous part.",
          "output_type": "error",
          "traceback": [
            "\u001b[1;31m---------------------------------------------------------------------------\u001b[0m",
            "\u001b[1;31mValueError\u001b[0m                                Traceback (most recent call last)",
            "Cell \u001b[1;32mIn[163], line 8\u001b[0m\n\u001b[0;32m      1\u001b[0m input_data \u001b[38;5;241m=\u001b[39m [[\u001b[38;5;241m2022\u001b[39m, \u001b[38;5;241m5\u001b[39m, \u001b[38;5;241m3\u001b[39m,\u001b[38;5;241m1\u001b[39m,\u001b[38;5;241m0\u001b[39m,\u001b[38;5;241m0\u001b[39m,\u001b[38;5;241m0\u001b[39m,\u001b[38;5;241m0\u001b[39m,\u001b[38;5;241m0\u001b[39m,\u001b[38;5;241m0\u001b[39m,\u001b[38;5;241m0\u001b[39m,\u001b[38;5;241m0\u001b[39m,\u001b[38;5;241m0\u001b[39m,\u001b[38;5;241m0\u001b[39m,\u001b[38;5;241m0\u001b[39m,\u001b[38;5;241m0\u001b[39m,\u001b[38;5;241m1\u001b[39m,\u001b[38;5;241m0\u001b[39m]\n\u001b[0;32m      2\u001b[0m              ,[\u001b[38;5;241m2022\u001b[39m, \u001b[38;5;241m3\u001b[39m, \u001b[38;5;241m23\u001b[39m,\u001b[38;5;241m2\u001b[39m,\u001b[38;5;241m0\u001b[39m,\u001b[38;5;241m0\u001b[39m,\u001b[38;5;241m0\u001b[39m,\u001b[38;5;241m0\u001b[39m,\u001b[38;5;241m0\u001b[39m,\u001b[38;5;241m0\u001b[39m,\u001b[38;5;241m0\u001b[39m,\u001b[38;5;241m0\u001b[39m,\u001b[38;5;241m0\u001b[39m,\u001b[38;5;241m0\u001b[39m,\u001b[38;5;241m1\u001b[39m,\u001b[38;5;241m0\u001b[39m,\u001b[38;5;241m0\u001b[39m,\u001b[38;5;241m0\u001b[39m] \n\u001b[0;32m      3\u001b[0m              ,[\u001b[38;5;241m2022\u001b[39m, \u001b[38;5;241m2\u001b[39m, \u001b[38;5;241m1\u001b[39m,\u001b[38;5;241m2\u001b[39m,\u001b[38;5;241m1\u001b[39m,\u001b[38;5;241m0\u001b[39m,\u001b[38;5;241m0\u001b[39m,\u001b[38;5;241m0\u001b[39m,\u001b[38;5;241m0\u001b[39m,\u001b[38;5;241m0\u001b[39m,\u001b[38;5;241m0\u001b[39m,\u001b[38;5;241m0\u001b[39m,\u001b[38;5;241m0\u001b[39m,\u001b[38;5;241m0\u001b[39m,\u001b[38;5;241m0\u001b[39m,\u001b[38;5;241m0\u001b[39m,\u001b[38;5;241m0\u001b[39m,\u001b[38;5;241m0\u001b[39m,\u001b[38;5;241m0\u001b[39m]\n\u001b[1;32m   (...)\u001b[0m\n\u001b[0;32m      6\u001b[0m              ,[\u001b[38;5;241m2021\u001b[39m, \u001b[38;5;241m9\u001b[39m, \u001b[38;5;241m6\u001b[39m,\u001b[38;5;241m0\u001b[39m,\u001b[38;5;241m0\u001b[39m,\u001b[38;5;241m0\u001b[39m,\u001b[38;5;241m0\u001b[39m,\u001b[38;5;241m1\u001b[39m,\u001b[38;5;241m0\u001b[39m,\u001b[38;5;241m0\u001b[39m,\u001b[38;5;241m0\u001b[39m,\u001b[38;5;241m0\u001b[39m,\u001b[38;5;241m0\u001b[39m,\u001b[38;5;241m0\u001b[39m,\u001b[38;5;241m0\u001b[39m,\u001b[38;5;241m0\u001b[39m,\u001b[38;5;241m0\u001b[39m,\u001b[38;5;241m0\u001b[39m]\n\u001b[0;32m      7\u001b[0m              ,[\u001b[38;5;241m2021\u001b[39m, \u001b[38;5;241m8\u001b[39m, \u001b[38;5;241m17\u001b[39m,\u001b[38;5;241m1\u001b[39m,\u001b[38;5;241m0\u001b[39m,\u001b[38;5;241m0\u001b[39m,\u001b[38;5;241m0\u001b[39m,\u001b[38;5;241m0\u001b[39m,\u001b[38;5;241m0\u001b[39m,\u001b[38;5;241m0\u001b[39m,\u001b[38;5;241m0\u001b[39m,\u001b[38;5;241m0\u001b[39m,\u001b[38;5;241m0\u001b[39m,\u001b[38;5;241m0\u001b[39m,\u001b[38;5;241m0\u001b[39m,\u001b[38;5;241m0\u001b[39m,\u001b[38;5;241m0\u001b[39m,\u001b[38;5;241m0\u001b[39m]]\n\u001b[1;32m----> 8\u001b[0m predicted_sales \u001b[38;5;241m=\u001b[39m model3\u001b[38;5;241m.\u001b[39mpredict(input_data)\n\u001b[0;32m      9\u001b[0m \u001b[38;5;28;01mfor\u001b[39;00m i \u001b[38;5;129;01min\u001b[39;00m \u001b[38;5;28mrange\u001b[39m (\u001b[38;5;241m0\u001b[39m, \u001b[38;5;28mlen\u001b[39m(predicted_sales)):\n\u001b[0;32m     10\u001b[0m     \u001b[38;5;28mprint\u001b[39m(predicted_sales[i])\n",
            "File \u001b[1;32m~\\AppData\\Local\\anaconda3\\Lib\\site-packages\\sklearn\\linear_model\\_base.py:386\u001b[0m, in \u001b[0;36mLinearModel.predict\u001b[1;34m(self, X)\u001b[0m\n\u001b[0;32m    372\u001b[0m \u001b[38;5;28;01mdef\u001b[39;00m \u001b[38;5;21mpredict\u001b[39m(\u001b[38;5;28mself\u001b[39m, X):\n\u001b[0;32m    373\u001b[0m \u001b[38;5;250m    \u001b[39m\u001b[38;5;124;03m\"\"\"\u001b[39;00m\n\u001b[0;32m    374\u001b[0m \u001b[38;5;124;03m    Predict using the linear model.\u001b[39;00m\n\u001b[0;32m    375\u001b[0m \n\u001b[1;32m   (...)\u001b[0m\n\u001b[0;32m    384\u001b[0m \u001b[38;5;124;03m        Returns predicted values.\u001b[39;00m\n\u001b[0;32m    385\u001b[0m \u001b[38;5;124;03m    \"\"\"\u001b[39;00m\n\u001b[1;32m--> 386\u001b[0m     \u001b[38;5;28;01mreturn\u001b[39;00m \u001b[38;5;28mself\u001b[39m\u001b[38;5;241m.\u001b[39m_decision_function(X)\n",
            "File \u001b[1;32m~\\AppData\\Local\\anaconda3\\Lib\\site-packages\\sklearn\\linear_model\\_base.py:369\u001b[0m, in \u001b[0;36mLinearModel._decision_function\u001b[1;34m(self, X)\u001b[0m\n\u001b[0;32m    366\u001b[0m \u001b[38;5;28;01mdef\u001b[39;00m \u001b[38;5;21m_decision_function\u001b[39m(\u001b[38;5;28mself\u001b[39m, X):\n\u001b[0;32m    367\u001b[0m     check_is_fitted(\u001b[38;5;28mself\u001b[39m)\n\u001b[1;32m--> 369\u001b[0m     X \u001b[38;5;241m=\u001b[39m \u001b[38;5;28mself\u001b[39m\u001b[38;5;241m.\u001b[39m_validate_data(X, accept_sparse\u001b[38;5;241m=\u001b[39m[\u001b[38;5;124m\"\u001b[39m\u001b[38;5;124mcsr\u001b[39m\u001b[38;5;124m\"\u001b[39m, \u001b[38;5;124m\"\u001b[39m\u001b[38;5;124mcsc\u001b[39m\u001b[38;5;124m\"\u001b[39m, \u001b[38;5;124m\"\u001b[39m\u001b[38;5;124mcoo\u001b[39m\u001b[38;5;124m\"\u001b[39m], reset\u001b[38;5;241m=\u001b[39m\u001b[38;5;28;01mFalse\u001b[39;00m)\n\u001b[0;32m    370\u001b[0m     \u001b[38;5;28;01mreturn\u001b[39;00m safe_sparse_dot(X, \u001b[38;5;28mself\u001b[39m\u001b[38;5;241m.\u001b[39mcoef_\u001b[38;5;241m.\u001b[39mT, dense_output\u001b[38;5;241m=\u001b[39m\u001b[38;5;28;01mTrue\u001b[39;00m) \u001b[38;5;241m+\u001b[39m \u001b[38;5;28mself\u001b[39m\u001b[38;5;241m.\u001b[39mintercept_\n",
            "File \u001b[1;32m~\\AppData\\Local\\anaconda3\\Lib\\site-packages\\sklearn\\base.py:604\u001b[0m, in \u001b[0;36mBaseEstimator._validate_data\u001b[1;34m(self, X, y, reset, validate_separately, cast_to_ndarray, **check_params)\u001b[0m\n\u001b[0;32m    602\u001b[0m         out \u001b[38;5;241m=\u001b[39m X, y\n\u001b[0;32m    603\u001b[0m \u001b[38;5;28;01melif\u001b[39;00m \u001b[38;5;129;01mnot\u001b[39;00m no_val_X \u001b[38;5;129;01mand\u001b[39;00m no_val_y:\n\u001b[1;32m--> 604\u001b[0m     out \u001b[38;5;241m=\u001b[39m check_array(X, input_name\u001b[38;5;241m=\u001b[39m\u001b[38;5;124m\"\u001b[39m\u001b[38;5;124mX\u001b[39m\u001b[38;5;124m\"\u001b[39m, \u001b[38;5;241m*\u001b[39m\u001b[38;5;241m*\u001b[39mcheck_params)\n\u001b[0;32m    605\u001b[0m \u001b[38;5;28;01melif\u001b[39;00m no_val_X \u001b[38;5;129;01mand\u001b[39;00m \u001b[38;5;129;01mnot\u001b[39;00m no_val_y:\n\u001b[0;32m    606\u001b[0m     out \u001b[38;5;241m=\u001b[39m _check_y(y, \u001b[38;5;241m*\u001b[39m\u001b[38;5;241m*\u001b[39mcheck_params)\n",
            "File \u001b[1;32m~\\AppData\\Local\\anaconda3\\Lib\\site-packages\\sklearn\\utils\\validation.py:917\u001b[0m, in \u001b[0;36mcheck_array\u001b[1;34m(array, accept_sparse, accept_large_sparse, dtype, order, copy, force_all_finite, ensure_2d, allow_nd, ensure_min_samples, ensure_min_features, estimator, input_name)\u001b[0m\n\u001b[0;32m    915\u001b[0m         array \u001b[38;5;241m=\u001b[39m xp\u001b[38;5;241m.\u001b[39mastype(array, dtype, copy\u001b[38;5;241m=\u001b[39m\u001b[38;5;28;01mFalse\u001b[39;00m)\n\u001b[0;32m    916\u001b[0m     \u001b[38;5;28;01melse\u001b[39;00m:\n\u001b[1;32m--> 917\u001b[0m         array \u001b[38;5;241m=\u001b[39m _asarray_with_order(array, order\u001b[38;5;241m=\u001b[39morder, dtype\u001b[38;5;241m=\u001b[39mdtype, xp\u001b[38;5;241m=\u001b[39mxp)\n\u001b[0;32m    918\u001b[0m \u001b[38;5;28;01mexcept\u001b[39;00m ComplexWarning \u001b[38;5;28;01mas\u001b[39;00m complex_warning:\n\u001b[0;32m    919\u001b[0m     \u001b[38;5;28;01mraise\u001b[39;00m \u001b[38;5;167;01mValueError\u001b[39;00m(\n\u001b[0;32m    920\u001b[0m         \u001b[38;5;124m\"\u001b[39m\u001b[38;5;124mComplex data not supported\u001b[39m\u001b[38;5;130;01m\\n\u001b[39;00m\u001b[38;5;132;01m{}\u001b[39;00m\u001b[38;5;130;01m\\n\u001b[39;00m\u001b[38;5;124m\"\u001b[39m\u001b[38;5;241m.\u001b[39mformat(array)\n\u001b[0;32m    921\u001b[0m     ) \u001b[38;5;28;01mfrom\u001b[39;00m \u001b[38;5;21;01mcomplex_warning\u001b[39;00m\n",
            "File \u001b[1;32m~\\AppData\\Local\\anaconda3\\Lib\\site-packages\\sklearn\\utils\\_array_api.py:380\u001b[0m, in \u001b[0;36m_asarray_with_order\u001b[1;34m(array, dtype, order, copy, xp)\u001b[0m\n\u001b[0;32m    378\u001b[0m     array \u001b[38;5;241m=\u001b[39m numpy\u001b[38;5;241m.\u001b[39marray(array, order\u001b[38;5;241m=\u001b[39morder, dtype\u001b[38;5;241m=\u001b[39mdtype)\n\u001b[0;32m    379\u001b[0m \u001b[38;5;28;01melse\u001b[39;00m:\n\u001b[1;32m--> 380\u001b[0m     array \u001b[38;5;241m=\u001b[39m numpy\u001b[38;5;241m.\u001b[39masarray(array, order\u001b[38;5;241m=\u001b[39morder, dtype\u001b[38;5;241m=\u001b[39mdtype)\n\u001b[0;32m    382\u001b[0m \u001b[38;5;66;03m# At this point array is a NumPy ndarray. We convert it to an array\u001b[39;00m\n\u001b[0;32m    383\u001b[0m \u001b[38;5;66;03m# container that is consistent with the input's namespace.\u001b[39;00m\n\u001b[0;32m    384\u001b[0m \u001b[38;5;28;01mreturn\u001b[39;00m xp\u001b[38;5;241m.\u001b[39masarray(array)\n",
            "\u001b[1;31mValueError\u001b[0m: setting an array element with a sequence. The requested array has an inhomogeneous shape after 1 dimensions. The detected shape was (7,) + inhomogeneous part."
          ]
        }
      ],
      "source": [
        "input_data = [[2022, 5, 3,1,0,0,0,0,0,0,0,0,0,0,0,0,1,0]\n",
        "             ,[2022, 3, 23,2,0,0,0,0,0,0,0,0,0,0,1,0,0,0]\n",
        "             ,[2022, 2, 1,2,1,0,0,0,0,0,0,0,0,0,0,0,0,0,0]\n",
        "             ,[2021, 12, 25,5,0,0,0,0,0,0,1,0,0,0,0,0,0,0]\n",
        "             ,[2021, 11, 19,4,0,0,0,0,0,0,0,0,0,0,0,0,0,0]\n",
        "             ,[2021, 9, 6,0,0,0,0,1,0,0,0,0,0,0,0,0,0,0]\n",
        "             ,[2021, 8, 17,1,0,0,0,0,0,0,0,0,0,0,0,0,0,0]]\n"
      ]
    },
    {
      "cell_type": "code",
      "execution_count": null,
      "id": "bcd6b2d5",
      "metadata": {
        "id": "bcd6b2d5"
      },
      "outputs": [],
      "source": []
    }
  ],
  "metadata": {
    "kernelspec": {
      "display_name": "Python 3 (ipykernel)",
      "language": "python",
      "name": "python3"
    },
    "language_info": {
      "codemirror_mode": {
        "name": "ipython",
        "version": 3
      },
      "file_extension": ".py",
      "mimetype": "text/x-python",
      "name": "python",
      "nbconvert_exporter": "python",
      "pygments_lexer": "ipython3",
      "version": "3.11.4"
    },
    "colab": {
      "provenance": []
    }
  },
  "nbformat": 4,
  "nbformat_minor": 5
}